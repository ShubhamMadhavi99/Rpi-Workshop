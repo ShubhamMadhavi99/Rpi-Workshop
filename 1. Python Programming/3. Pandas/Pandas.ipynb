{
  "nbformat": 4,
  "nbformat_minor": 0,
  "metadata": {
    "colab": {
      "name": "Pandas.ipynb",
      "provenance": [],
      "collapsed_sections": []
    },
    "kernelspec": {
      "name": "python3",
      "display_name": "Python 3"
    },
    "language_info": {
      "name": "python"
    }
  },
  "cells": [
    {
      "cell_type": "code",
      "metadata": {
        "id": "EZRFz7pvpYGx"
      },
      "source": [
        "import pandas as pd\n",
        "import numpy as np\n"
      ],
      "execution_count": null,
      "outputs": []
    },
    {
      "cell_type": "code",
      "metadata": {
        "colab": {
          "base_uri": "https://localhost:8080/"
        },
        "id": "0iw6odycpzqX",
        "outputId": "ff6ef88e-5202-46e7-a526-1bfd9b5abc5e"
      },
      "source": [
        "# Pandas Series\n",
        "s=pd.Series([1,2,3,4,5,6,7,8],dtype='int32')\n",
        "s"
      ],
      "execution_count": null,
      "outputs": [
        {
          "output_type": "execute_result",
          "data": {
            "text/plain": [
              "0    1\n",
              "1    2\n",
              "2    3\n",
              "3    4\n",
              "4    5\n",
              "5    6\n",
              "6    7\n",
              "7    8\n",
              "dtype: int32"
            ]
          },
          "metadata": {
            "tags": []
          },
          "execution_count": 3
        }
      ]
    },
    {
      "cell_type": "code",
      "metadata": {
        "colab": {
          "base_uri": "https://localhost:8080/",
          "height": 345
        },
        "id": "uUsBN_A3rhKc",
        "outputId": "7063815e-eef8-45ce-d2ce-72592fe007bc"
      },
      "source": [
        "# Pandas Dataframe\n",
        "marks=pd.DataFrame(np.random.randint(32,80,size=(10,4)),columns=['DSD','SS','EDC','EIC'],index=np.arange(1,11))\n",
        "marks"
      ],
      "execution_count": null,
      "outputs": [
        {
          "output_type": "execute_result",
          "data": {
            "text/html": [
              "<div>\n",
              "<style scoped>\n",
              "    .dataframe tbody tr th:only-of-type {\n",
              "        vertical-align: middle;\n",
              "    }\n",
              "\n",
              "    .dataframe tbody tr th {\n",
              "        vertical-align: top;\n",
              "    }\n",
              "\n",
              "    .dataframe thead th {\n",
              "        text-align: right;\n",
              "    }\n",
              "</style>\n",
              "<table border=\"1\" class=\"dataframe\">\n",
              "  <thead>\n",
              "    <tr style=\"text-align: right;\">\n",
              "      <th></th>\n",
              "      <th>DSD</th>\n",
              "      <th>SS</th>\n",
              "      <th>EDC</th>\n",
              "      <th>EIC</th>\n",
              "    </tr>\n",
              "  </thead>\n",
              "  <tbody>\n",
              "    <tr>\n",
              "      <th>1</th>\n",
              "      <td>37</td>\n",
              "      <td>59</td>\n",
              "      <td>49</td>\n",
              "      <td>77</td>\n",
              "    </tr>\n",
              "    <tr>\n",
              "      <th>2</th>\n",
              "      <td>72</td>\n",
              "      <td>65</td>\n",
              "      <td>54</td>\n",
              "      <td>35</td>\n",
              "    </tr>\n",
              "    <tr>\n",
              "      <th>3</th>\n",
              "      <td>46</td>\n",
              "      <td>49</td>\n",
              "      <td>33</td>\n",
              "      <td>65</td>\n",
              "    </tr>\n",
              "    <tr>\n",
              "      <th>4</th>\n",
              "      <td>63</td>\n",
              "      <td>56</td>\n",
              "      <td>73</td>\n",
              "      <td>66</td>\n",
              "    </tr>\n",
              "    <tr>\n",
              "      <th>5</th>\n",
              "      <td>51</td>\n",
              "      <td>44</td>\n",
              "      <td>75</td>\n",
              "      <td>54</td>\n",
              "    </tr>\n",
              "    <tr>\n",
              "      <th>6</th>\n",
              "      <td>54</td>\n",
              "      <td>71</td>\n",
              "      <td>69</td>\n",
              "      <td>47</td>\n",
              "    </tr>\n",
              "    <tr>\n",
              "      <th>7</th>\n",
              "      <td>43</td>\n",
              "      <td>70</td>\n",
              "      <td>67</td>\n",
              "      <td>42</td>\n",
              "    </tr>\n",
              "    <tr>\n",
              "      <th>8</th>\n",
              "      <td>33</td>\n",
              "      <td>78</td>\n",
              "      <td>57</td>\n",
              "      <td>56</td>\n",
              "    </tr>\n",
              "    <tr>\n",
              "      <th>9</th>\n",
              "      <td>51</td>\n",
              "      <td>64</td>\n",
              "      <td>69</td>\n",
              "      <td>53</td>\n",
              "    </tr>\n",
              "    <tr>\n",
              "      <th>10</th>\n",
              "      <td>76</td>\n",
              "      <td>47</td>\n",
              "      <td>56</td>\n",
              "      <td>70</td>\n",
              "    </tr>\n",
              "  </tbody>\n",
              "</table>\n",
              "</div>"
            ],
            "text/plain": [
              "    DSD  SS  EDC  EIC\n",
              "1    37  59   49   77\n",
              "2    72  65   54   35\n",
              "3    46  49   33   65\n",
              "4    63  56   73   66\n",
              "5    51  44   75   54\n",
              "6    54  71   69   47\n",
              "7    43  70   67   42\n",
              "8    33  78   57   56\n",
              "9    51  64   69   53\n",
              "10   76  47   56   70"
            ]
          },
          "metadata": {
            "tags": []
          },
          "execution_count": 5
        }
      ]
    },
    {
      "cell_type": "code",
      "metadata": {
        "colab": {
          "base_uri": "https://localhost:8080/",
          "height": 237
        },
        "id": "2c-jNyIuzYZf",
        "outputId": "38a97d6a-004f-45a9-9a9b-d125b8e71246"
      },
      "source": [
        "# Pandas Dataframe using dictionary\n",
        "df=pd.DataFrame({'Name':['Shubham','Sunit','Shreyas'],\n",
        "                 'Branch':['EXTC','EXTC','IT'],\n",
        "                 'Percentage':np.random.randint(60,90,size=3)},index=np.arange(1,4))\n",
        "print(df,'\\n\\n')\n",
        "\n",
        "df"
      ],
      "execution_count": null,
      "outputs": [
        {
          "output_type": "stream",
          "text": [
            "      Name Branch  Percentage\n",
            "1  Shubham   EXTC          64\n",
            "2    Sunit   EXTC          62\n",
            "3  Shreyas     IT          80 \n",
            "\n",
            "\n"
          ],
          "name": "stdout"
        },
        {
          "output_type": "execute_result",
          "data": {
            "text/html": [
              "<div>\n",
              "<style scoped>\n",
              "    .dataframe tbody tr th:only-of-type {\n",
              "        vertical-align: middle;\n",
              "    }\n",
              "\n",
              "    .dataframe tbody tr th {\n",
              "        vertical-align: top;\n",
              "    }\n",
              "\n",
              "    .dataframe thead th {\n",
              "        text-align: right;\n",
              "    }\n",
              "</style>\n",
              "<table border=\"1\" class=\"dataframe\">\n",
              "  <thead>\n",
              "    <tr style=\"text-align: right;\">\n",
              "      <th></th>\n",
              "      <th>Name</th>\n",
              "      <th>Branch</th>\n",
              "      <th>Percentage</th>\n",
              "    </tr>\n",
              "  </thead>\n",
              "  <tbody>\n",
              "    <tr>\n",
              "      <th>1</th>\n",
              "      <td>Shubham</td>\n",
              "      <td>EXTC</td>\n",
              "      <td>64</td>\n",
              "    </tr>\n",
              "    <tr>\n",
              "      <th>2</th>\n",
              "      <td>Sunit</td>\n",
              "      <td>EXTC</td>\n",
              "      <td>62</td>\n",
              "    </tr>\n",
              "    <tr>\n",
              "      <th>3</th>\n",
              "      <td>Shreyas</td>\n",
              "      <td>IT</td>\n",
              "      <td>80</td>\n",
              "    </tr>\n",
              "  </tbody>\n",
              "</table>\n",
              "</div>"
            ],
            "text/plain": [
              "      Name Branch  Percentage\n",
              "1  Shubham   EXTC          64\n",
              "2    Sunit   EXTC          62\n",
              "3  Shreyas     IT          80"
            ]
          },
          "metadata": {
            "tags": []
          },
          "execution_count": 26
        }
      ]
    },
    {
      "cell_type": "code",
      "metadata": {
        "colab": {
          "base_uri": "https://localhost:8080/"
        },
        "id": "ZQQcpUl_2f-y",
        "outputId": "bc88f8a7-eb85-498f-c271-5cfe34b55d34"
      },
      "source": [
        "#To view datatypes of your dataset\n",
        "df.dtypes\n"
      ],
      "execution_count": null,
      "outputs": [
        {
          "output_type": "execute_result",
          "data": {
            "text/plain": [
              "Name          object\n",
              "Branch        object\n",
              "Percentage     int64\n",
              "dtype: object"
            ]
          },
          "metadata": {
            "tags": []
          },
          "execution_count": 49
        }
      ]
    },
    {
      "cell_type": "code",
      "metadata": {
        "colab": {
          "base_uri": "https://localhost:8080/",
          "height": 196
        },
        "id": "-bDN7JVP23pl",
        "outputId": "384907f8-0680-4adb-8aad-a7f37d49cf88"
      },
      "source": [
        "#To display the first 5 rows of your dataset\n",
        "marks.head()"
      ],
      "execution_count": null,
      "outputs": [
        {
          "output_type": "execute_result",
          "data": {
            "text/html": [
              "<div>\n",
              "<style scoped>\n",
              "    .dataframe tbody tr th:only-of-type {\n",
              "        vertical-align: middle;\n",
              "    }\n",
              "\n",
              "    .dataframe tbody tr th {\n",
              "        vertical-align: top;\n",
              "    }\n",
              "\n",
              "    .dataframe thead th {\n",
              "        text-align: right;\n",
              "    }\n",
              "</style>\n",
              "<table border=\"1\" class=\"dataframe\">\n",
              "  <thead>\n",
              "    <tr style=\"text-align: right;\">\n",
              "      <th></th>\n",
              "      <th>DSD</th>\n",
              "      <th>SS</th>\n",
              "      <th>EDC</th>\n",
              "      <th>EIC</th>\n",
              "    </tr>\n",
              "  </thead>\n",
              "  <tbody>\n",
              "    <tr>\n",
              "      <th>1</th>\n",
              "      <td>37</td>\n",
              "      <td>59</td>\n",
              "      <td>49</td>\n",
              "      <td>77</td>\n",
              "    </tr>\n",
              "    <tr>\n",
              "      <th>2</th>\n",
              "      <td>72</td>\n",
              "      <td>65</td>\n",
              "      <td>54</td>\n",
              "      <td>35</td>\n",
              "    </tr>\n",
              "    <tr>\n",
              "      <th>3</th>\n",
              "      <td>46</td>\n",
              "      <td>49</td>\n",
              "      <td>33</td>\n",
              "      <td>65</td>\n",
              "    </tr>\n",
              "    <tr>\n",
              "      <th>4</th>\n",
              "      <td>63</td>\n",
              "      <td>56</td>\n",
              "      <td>73</td>\n",
              "      <td>66</td>\n",
              "    </tr>\n",
              "    <tr>\n",
              "      <th>5</th>\n",
              "      <td>51</td>\n",
              "      <td>44</td>\n",
              "      <td>75</td>\n",
              "      <td>54</td>\n",
              "    </tr>\n",
              "  </tbody>\n",
              "</table>\n",
              "</div>"
            ],
            "text/plain": [
              "   DSD  SS  EDC  EIC\n",
              "1   37  59   49   77\n",
              "2   72  65   54   35\n",
              "3   46  49   33   65\n",
              "4   63  56   73   66\n",
              "5   51  44   75   54"
            ]
          },
          "metadata": {
            "tags": []
          },
          "execution_count": 10
        }
      ]
    },
    {
      "cell_type": "code",
      "metadata": {
        "colab": {
          "base_uri": "https://localhost:8080/",
          "height": 196
        },
        "id": "S2tiuoS63EUi",
        "outputId": "a4c436d9-7636-40ad-ca0a-accd45ea94f0"
      },
      "source": [
        "#To display the last 5 rows of your Dataset\n",
        "marks.tail()"
      ],
      "execution_count": null,
      "outputs": [
        {
          "output_type": "execute_result",
          "data": {
            "text/html": [
              "<div>\n",
              "<style scoped>\n",
              "    .dataframe tbody tr th:only-of-type {\n",
              "        vertical-align: middle;\n",
              "    }\n",
              "\n",
              "    .dataframe tbody tr th {\n",
              "        vertical-align: top;\n",
              "    }\n",
              "\n",
              "    .dataframe thead th {\n",
              "        text-align: right;\n",
              "    }\n",
              "</style>\n",
              "<table border=\"1\" class=\"dataframe\">\n",
              "  <thead>\n",
              "    <tr style=\"text-align: right;\">\n",
              "      <th></th>\n",
              "      <th>DSD</th>\n",
              "      <th>SS</th>\n",
              "      <th>EDC</th>\n",
              "      <th>EIC</th>\n",
              "    </tr>\n",
              "  </thead>\n",
              "  <tbody>\n",
              "    <tr>\n",
              "      <th>6</th>\n",
              "      <td>54</td>\n",
              "      <td>71</td>\n",
              "      <td>69</td>\n",
              "      <td>47</td>\n",
              "    </tr>\n",
              "    <tr>\n",
              "      <th>7</th>\n",
              "      <td>43</td>\n",
              "      <td>70</td>\n",
              "      <td>67</td>\n",
              "      <td>42</td>\n",
              "    </tr>\n",
              "    <tr>\n",
              "      <th>8</th>\n",
              "      <td>33</td>\n",
              "      <td>78</td>\n",
              "      <td>57</td>\n",
              "      <td>56</td>\n",
              "    </tr>\n",
              "    <tr>\n",
              "      <th>9</th>\n",
              "      <td>51</td>\n",
              "      <td>64</td>\n",
              "      <td>69</td>\n",
              "      <td>53</td>\n",
              "    </tr>\n",
              "    <tr>\n",
              "      <th>10</th>\n",
              "      <td>76</td>\n",
              "      <td>47</td>\n",
              "      <td>56</td>\n",
              "      <td>70</td>\n",
              "    </tr>\n",
              "  </tbody>\n",
              "</table>\n",
              "</div>"
            ],
            "text/plain": [
              "    DSD  SS  EDC  EIC\n",
              "6    54  71   69   47\n",
              "7    43  70   67   42\n",
              "8    33  78   57   56\n",
              "9    51  64   69   53\n",
              "10   76  47   56   70"
            ]
          },
          "metadata": {
            "tags": []
          },
          "execution_count": 11
        }
      ]
    },
    {
      "cell_type": "code",
      "metadata": {
        "colab": {
          "base_uri": "https://localhost:8080/"
        },
        "id": "jTAPPkFJ33TP",
        "outputId": "5d5f327c-e516-4d6a-8b44-62842a384c54"
      },
      "source": [
        "#To know the indexing of your Dataset\n",
        "df.index"
      ],
      "execution_count": null,
      "outputs": [
        {
          "output_type": "execute_result",
          "data": {
            "text/plain": [
              "Int64Index([1, 2, 3], dtype='int64')"
            ]
          },
          "metadata": {
            "tags": []
          },
          "execution_count": 27
        }
      ]
    },
    {
      "cell_type": "code",
      "metadata": {
        "colab": {
          "base_uri": "https://localhost:8080/"
        },
        "id": "nppQZr9M4A5A",
        "outputId": "cf381290-ae96-4460-abb5-9342b28f3c20"
      },
      "source": [
        "#To know the column names of your Dataset\n",
        "df.columns"
      ],
      "execution_count": null,
      "outputs": [
        {
          "output_type": "execute_result",
          "data": {
            "text/plain": [
              "Index(['Name', 'Branch', 'Percentage'], dtype='object')"
            ]
          },
          "metadata": {
            "tags": []
          },
          "execution_count": 53
        }
      ]
    },
    {
      "cell_type": "code",
      "metadata": {
        "colab": {
          "base_uri": "https://localhost:8080/"
        },
        "id": "0dXuYmcm4u5m",
        "outputId": "fd755d48-9866-491b-d1ca-0b5438278bd1"
      },
      "source": [
        "#To convert your Pandas dataset to Numpy arrays\n",
        "marks.to_numpy()"
      ],
      "execution_count": null,
      "outputs": [
        {
          "output_type": "execute_result",
          "data": {
            "text/plain": [
              "array([[37, 59, 49, 77],\n",
              "       [72, 65, 54, 35],\n",
              "       [46, 49, 33, 65],\n",
              "       [63, 56, 73, 66],\n",
              "       [51, 44, 75, 54],\n",
              "       [54, 71, 69, 47],\n",
              "       [43, 70, 67, 42],\n",
              "       [33, 78, 57, 56],\n",
              "       [51, 64, 69, 53],\n",
              "       [76, 47, 56, 70]])"
            ]
          },
          "metadata": {
            "tags": []
          },
          "execution_count": 29
        }
      ]
    },
    {
      "cell_type": "code",
      "metadata": {
        "colab": {
          "base_uri": "https://localhost:8080/",
          "height": 286
        },
        "id": "34_DRvF86cst",
        "outputId": "4d218412-aabe-4958-c6e0-54804f557bea"
      },
      "source": [
        "#To know some basic stats about your dataset\n",
        "marks.describe()"
      ],
      "execution_count": null,
      "outputs": [
        {
          "output_type": "execute_result",
          "data": {
            "text/html": [
              "<div>\n",
              "<style scoped>\n",
              "    .dataframe tbody tr th:only-of-type {\n",
              "        vertical-align: middle;\n",
              "    }\n",
              "\n",
              "    .dataframe tbody tr th {\n",
              "        vertical-align: top;\n",
              "    }\n",
              "\n",
              "    .dataframe thead th {\n",
              "        text-align: right;\n",
              "    }\n",
              "</style>\n",
              "<table border=\"1\" class=\"dataframe\">\n",
              "  <thead>\n",
              "    <tr style=\"text-align: right;\">\n",
              "      <th></th>\n",
              "      <th>DSD</th>\n",
              "      <th>SS</th>\n",
              "      <th>EDC</th>\n",
              "      <th>EIC</th>\n",
              "    </tr>\n",
              "  </thead>\n",
              "  <tbody>\n",
              "    <tr>\n",
              "      <th>count</th>\n",
              "      <td>10.000000</td>\n",
              "      <td>10.000000</td>\n",
              "      <td>10.000000</td>\n",
              "      <td>10.000000</td>\n",
              "    </tr>\n",
              "    <tr>\n",
              "      <th>mean</th>\n",
              "      <td>52.600000</td>\n",
              "      <td>60.300000</td>\n",
              "      <td>60.200000</td>\n",
              "      <td>56.500000</td>\n",
              "    </tr>\n",
              "    <tr>\n",
              "      <th>std</th>\n",
              "      <td>14.151561</td>\n",
              "      <td>11.294541</td>\n",
              "      <td>12.976903</td>\n",
              "      <td>13.108521</td>\n",
              "    </tr>\n",
              "    <tr>\n",
              "      <th>min</th>\n",
              "      <td>33.000000</td>\n",
              "      <td>44.000000</td>\n",
              "      <td>33.000000</td>\n",
              "      <td>35.000000</td>\n",
              "    </tr>\n",
              "    <tr>\n",
              "      <th>25%</th>\n",
              "      <td>43.750000</td>\n",
              "      <td>50.750000</td>\n",
              "      <td>54.500000</td>\n",
              "      <td>48.500000</td>\n",
              "    </tr>\n",
              "    <tr>\n",
              "      <th>50%</th>\n",
              "      <td>51.000000</td>\n",
              "      <td>61.500000</td>\n",
              "      <td>62.000000</td>\n",
              "      <td>55.000000</td>\n",
              "    </tr>\n",
              "    <tr>\n",
              "      <th>75%</th>\n",
              "      <td>60.750000</td>\n",
              "      <td>68.750000</td>\n",
              "      <td>69.000000</td>\n",
              "      <td>65.750000</td>\n",
              "    </tr>\n",
              "    <tr>\n",
              "      <th>max</th>\n",
              "      <td>76.000000</td>\n",
              "      <td>78.000000</td>\n",
              "      <td>75.000000</td>\n",
              "      <td>77.000000</td>\n",
              "    </tr>\n",
              "  </tbody>\n",
              "</table>\n",
              "</div>"
            ],
            "text/plain": [
              "             DSD         SS        EDC        EIC\n",
              "count  10.000000  10.000000  10.000000  10.000000\n",
              "mean   52.600000  60.300000  60.200000  56.500000\n",
              "std    14.151561  11.294541  12.976903  13.108521\n",
              "min    33.000000  44.000000  33.000000  35.000000\n",
              "25%    43.750000  50.750000  54.500000  48.500000\n",
              "50%    51.000000  61.500000  62.000000  55.000000\n",
              "75%    60.750000  68.750000  69.000000  65.750000\n",
              "max    76.000000  78.000000  75.000000  77.000000"
            ]
          },
          "metadata": {
            "tags": []
          },
          "execution_count": 31
        }
      ]
    },
    {
      "cell_type": "code",
      "metadata": {
        "colab": {
          "base_uri": "https://localhost:8080/",
          "height": 362
        },
        "id": "TFr7qMoT7S-o",
        "outputId": "925a05ae-45f9-4be2-cbc0-54485e07ea2e"
      },
      "source": [
        "#Sorting values in dataset\n",
        "print(marks.columns[2])\n",
        "marks.sort_values(by='DSD',ascending=False)"
      ],
      "execution_count": null,
      "outputs": [
        {
          "output_type": "stream",
          "text": [
            "EDC\n"
          ],
          "name": "stdout"
        },
        {
          "output_type": "execute_result",
          "data": {
            "text/html": [
              "<div>\n",
              "<style scoped>\n",
              "    .dataframe tbody tr th:only-of-type {\n",
              "        vertical-align: middle;\n",
              "    }\n",
              "\n",
              "    .dataframe tbody tr th {\n",
              "        vertical-align: top;\n",
              "    }\n",
              "\n",
              "    .dataframe thead th {\n",
              "        text-align: right;\n",
              "    }\n",
              "</style>\n",
              "<table border=\"1\" class=\"dataframe\">\n",
              "  <thead>\n",
              "    <tr style=\"text-align: right;\">\n",
              "      <th></th>\n",
              "      <th>DSD</th>\n",
              "      <th>SS</th>\n",
              "      <th>EDC</th>\n",
              "      <th>EIC</th>\n",
              "      <th>Internals</th>\n",
              "      <th>Percentage</th>\n",
              "    </tr>\n",
              "  </thead>\n",
              "  <tbody>\n",
              "    <tr>\n",
              "      <th>10</th>\n",
              "      <td>76</td>\n",
              "      <td>47</td>\n",
              "      <td>56</td>\n",
              "      <td>70</td>\n",
              "      <td>18</td>\n",
              "      <td>78.529412</td>\n",
              "    </tr>\n",
              "    <tr>\n",
              "      <th>2</th>\n",
              "      <td>72</td>\n",
              "      <td>65</td>\n",
              "      <td>54</td>\n",
              "      <td>35</td>\n",
              "      <td>19</td>\n",
              "      <td>72.058824</td>\n",
              "    </tr>\n",
              "    <tr>\n",
              "      <th>4</th>\n",
              "      <td>63</td>\n",
              "      <td>56</td>\n",
              "      <td>73</td>\n",
              "      <td>66</td>\n",
              "      <td>18</td>\n",
              "      <td>81.176471</td>\n",
              "    </tr>\n",
              "    <tr>\n",
              "      <th>6</th>\n",
              "      <td>54</td>\n",
              "      <td>71</td>\n",
              "      <td>69</td>\n",
              "      <td>47</td>\n",
              "      <td>9</td>\n",
              "      <td>73.529412</td>\n",
              "    </tr>\n",
              "    <tr>\n",
              "      <th>5</th>\n",
              "      <td>51</td>\n",
              "      <td>44</td>\n",
              "      <td>75</td>\n",
              "      <td>54</td>\n",
              "      <td>16</td>\n",
              "      <td>70.588235</td>\n",
              "    </tr>\n",
              "    <tr>\n",
              "      <th>9</th>\n",
              "      <td>51</td>\n",
              "      <td>64</td>\n",
              "      <td>69</td>\n",
              "      <td>53</td>\n",
              "      <td>10</td>\n",
              "      <td>72.647059</td>\n",
              "    </tr>\n",
              "    <tr>\n",
              "      <th>3</th>\n",
              "      <td>46</td>\n",
              "      <td>49</td>\n",
              "      <td>33</td>\n",
              "      <td>65</td>\n",
              "      <td>14</td>\n",
              "      <td>60.882353</td>\n",
              "    </tr>\n",
              "    <tr>\n",
              "      <th>7</th>\n",
              "      <td>43</td>\n",
              "      <td>70</td>\n",
              "      <td>67</td>\n",
              "      <td>42</td>\n",
              "      <td>18</td>\n",
              "      <td>70.588235</td>\n",
              "    </tr>\n",
              "    <tr>\n",
              "      <th>1</th>\n",
              "      <td>37</td>\n",
              "      <td>59</td>\n",
              "      <td>49</td>\n",
              "      <td>77</td>\n",
              "      <td>17</td>\n",
              "      <td>70.294118</td>\n",
              "    </tr>\n",
              "    <tr>\n",
              "      <th>8</th>\n",
              "      <td>33</td>\n",
              "      <td>78</td>\n",
              "      <td>57</td>\n",
              "      <td>56</td>\n",
              "      <td>13</td>\n",
              "      <td>69.705882</td>\n",
              "    </tr>\n",
              "  </tbody>\n",
              "</table>\n",
              "</div>"
            ],
            "text/plain": [
              "    DSD  SS  EDC  EIC  Internals  Percentage\n",
              "10   76  47   56   70         18   78.529412\n",
              "2    72  65   54   35         19   72.058824\n",
              "4    63  56   73   66         18   81.176471\n",
              "6    54  71   69   47          9   73.529412\n",
              "5    51  44   75   54         16   70.588235\n",
              "9    51  64   69   53         10   72.647059\n",
              "3    46  49   33   65         14   60.882353\n",
              "7    43  70   67   42         18   70.588235\n",
              "1    37  59   49   77         17   70.294118\n",
              "8    33  78   57   56         13   69.705882"
            ]
          },
          "metadata": {
            "tags": []
          },
          "execution_count": 65
        }
      ]
    },
    {
      "cell_type": "code",
      "metadata": {
        "colab": {
          "base_uri": "https://localhost:8080/"
        },
        "id": "iGtcI0TU9HvC",
        "outputId": "d9455790-a08c-447d-8273-23db47ca83ee"
      },
      "source": [
        "#Basic Slicing of the Dataset\n",
        "#Slice a particular column\n",
        "print(marks['DSD'],'\\n\\n')\n",
        "\n",
        "#Slice a particular row\n",
        "print(marks.loc[4],'\\n\\n')\n",
        "\n",
        "#Slice set of rows\n",
        "print(marks[1:4],'\\n\\n')\n",
        "\n",
        "#Slice rows of a column\n",
        "print(marks['DSD'][2:8])\n"
      ],
      "execution_count": null,
      "outputs": [
        {
          "output_type": "stream",
          "text": [
            "1     37\n",
            "2     72\n",
            "3     46\n",
            "4     63\n",
            "5     51\n",
            "6     54\n",
            "7     43\n",
            "8     33\n",
            "9     51\n",
            "10    76\n",
            "Name: DSD, dtype: int64 \n",
            "\n",
            "\n",
            "DSD    63\n",
            "SS     56\n",
            "EDC    73\n",
            "EIC    66\n",
            "Name: 4, dtype: int64 \n",
            "\n",
            "\n",
            "   DSD  SS  EDC  EIC\n",
            "2   72  65   54   35\n",
            "3   46  49   33   65\n",
            "4   63  56   73   66 \n",
            "\n",
            "\n",
            "3    46\n",
            "4    63\n",
            "5    51\n",
            "6    54\n",
            "7    43\n",
            "8    33\n",
            "Name: DSD, dtype: int64\n"
          ],
          "name": "stdout"
        }
      ]
    },
    {
      "cell_type": "code",
      "metadata": {
        "colab": {
          "base_uri": "https://localhost:8080/"
        },
        "id": "HU88I1Rz_n8G",
        "outputId": "eaa35934-3f80-4f55-a814-1c2cd6b76243"
      },
      "source": [
        "#Slicing rows and columns using .loc[] and .iloc[]\n",
        "print(marks.loc[4:9,'SS':'EIC'],'\\n\\n')\n",
        "print(marks.loc[[1,2,9],['SS','EIC']],'\\n\\n')\n",
        "\n",
        "#iloc is indexed location\n",
        "print(marks.iloc[3:7,1:4])\n"
      ],
      "execution_count": null,
      "outputs": [
        {
          "output_type": "stream",
          "text": [
            "   SS  EDC  EIC\n",
            "4  56   73   66\n",
            "5  44   75   54\n",
            "6  71   69   47\n",
            "7  70   67   42\n",
            "8  78   57   56\n",
            "9  64   69   53 \n",
            "\n",
            "\n",
            "   SS  EIC\n",
            "1  59   77\n",
            "2  65   35\n",
            "9  64   53 \n",
            "\n",
            "\n",
            "   SS  EDC  EIC\n",
            "4  56   73   66\n",
            "5  44   75   54\n",
            "6  71   69   47\n",
            "7  70   67   42\n"
          ],
          "name": "stdout"
        }
      ]
    },
    {
      "cell_type": "code",
      "metadata": {
        "colab": {
          "base_uri": "https://localhost:8080/",
          "height": 77
        },
        "id": "rmdp-GuMOxdv",
        "outputId": "d3cb5a5b-10f0-4a4e-a104-d697873dd742"
      },
      "source": [
        "good_marks=marks[(marks['DSD']>60) & (marks['EDC']>60)]\n",
        "good_marks"
      ],
      "execution_count": null,
      "outputs": [
        {
          "output_type": "execute_result",
          "data": {
            "text/html": [
              "<div>\n",
              "<style scoped>\n",
              "    .dataframe tbody tr th:only-of-type {\n",
              "        vertical-align: middle;\n",
              "    }\n",
              "\n",
              "    .dataframe tbody tr th {\n",
              "        vertical-align: top;\n",
              "    }\n",
              "\n",
              "    .dataframe thead th {\n",
              "        text-align: right;\n",
              "    }\n",
              "</style>\n",
              "<table border=\"1\" class=\"dataframe\">\n",
              "  <thead>\n",
              "    <tr style=\"text-align: right;\">\n",
              "      <th></th>\n",
              "      <th>DSD</th>\n",
              "      <th>SS</th>\n",
              "      <th>EDC</th>\n",
              "      <th>EIC</th>\n",
              "    </tr>\n",
              "  </thead>\n",
              "  <tbody>\n",
              "    <tr>\n",
              "      <th>4</th>\n",
              "      <td>63</td>\n",
              "      <td>56</td>\n",
              "      <td>73</td>\n",
              "      <td>66</td>\n",
              "    </tr>\n",
              "  </tbody>\n",
              "</table>\n",
              "</div>"
            ],
            "text/plain": [
              "   DSD  SS  EDC  EIC\n",
              "4   63  56   73   66"
            ]
          },
          "metadata": {
            "tags": []
          },
          "execution_count": 47
        }
      ]
    },
    {
      "cell_type": "code",
      "metadata": {
        "colab": {
          "base_uri": "https://localhost:8080/",
          "height": 931
        },
        "id": "tTQzZkOmTxt8",
        "outputId": "37191eb4-03f0-49b8-ac63-45fd2c90dcf2"
      },
      "source": [
        "# Dealing with missing values\n",
        "\n",
        "marks_gt_40=marks[marks>=40]\n",
        "print(marks_gt_40,'\\n\\n')\n",
        "\n",
        "print(marks_gt_40.isna(),'\\n\\n')\n",
        "\n",
        "print(marks_gt_40.dropna(),'\\n\\n')\n",
        "\n",
        "marks_gt_40.fillna(value=50)"
      ],
      "execution_count": null,
      "outputs": [
        {
          "output_type": "stream",
          "text": [
            "     DSD  SS   EDC   EIC\n",
            "1    NaN  59  49.0  77.0\n",
            "2   72.0  65  54.0   NaN\n",
            "3   46.0  49   NaN  65.0\n",
            "4   63.0  56  73.0  66.0\n",
            "5   51.0  44  75.0  54.0\n",
            "6   54.0  71  69.0  47.0\n",
            "7   43.0  70  67.0  42.0\n",
            "8    NaN  78  57.0  56.0\n",
            "9   51.0  64  69.0  53.0\n",
            "10  76.0  47  56.0  70.0 \n",
            "\n",
            "\n",
            "      DSD     SS    EDC    EIC\n",
            "1    True  False  False  False\n",
            "2   False  False  False   True\n",
            "3   False  False   True  False\n",
            "4   False  False  False  False\n",
            "5   False  False  False  False\n",
            "6   False  False  False  False\n",
            "7   False  False  False  False\n",
            "8    True  False  False  False\n",
            "9   False  False  False  False\n",
            "10  False  False  False  False \n",
            "\n",
            "\n",
            "     DSD  SS   EDC   EIC\n",
            "4   63.0  56  73.0  66.0\n",
            "5   51.0  44  75.0  54.0\n",
            "6   54.0  71  69.0  47.0\n",
            "7   43.0  70  67.0  42.0\n",
            "9   51.0  64  69.0  53.0\n",
            "10  76.0  47  56.0  70.0 \n",
            "\n",
            "\n"
          ],
          "name": "stdout"
        },
        {
          "output_type": "execute_result",
          "data": {
            "text/html": [
              "<div>\n",
              "<style scoped>\n",
              "    .dataframe tbody tr th:only-of-type {\n",
              "        vertical-align: middle;\n",
              "    }\n",
              "\n",
              "    .dataframe tbody tr th {\n",
              "        vertical-align: top;\n",
              "    }\n",
              "\n",
              "    .dataframe thead th {\n",
              "        text-align: right;\n",
              "    }\n",
              "</style>\n",
              "<table border=\"1\" class=\"dataframe\">\n",
              "  <thead>\n",
              "    <tr style=\"text-align: right;\">\n",
              "      <th></th>\n",
              "      <th>DSD</th>\n",
              "      <th>SS</th>\n",
              "      <th>EDC</th>\n",
              "      <th>EIC</th>\n",
              "    </tr>\n",
              "  </thead>\n",
              "  <tbody>\n",
              "    <tr>\n",
              "      <th>1</th>\n",
              "      <td>50.0</td>\n",
              "      <td>59</td>\n",
              "      <td>49.0</td>\n",
              "      <td>77.0</td>\n",
              "    </tr>\n",
              "    <tr>\n",
              "      <th>2</th>\n",
              "      <td>72.0</td>\n",
              "      <td>65</td>\n",
              "      <td>54.0</td>\n",
              "      <td>50.0</td>\n",
              "    </tr>\n",
              "    <tr>\n",
              "      <th>3</th>\n",
              "      <td>46.0</td>\n",
              "      <td>49</td>\n",
              "      <td>50.0</td>\n",
              "      <td>65.0</td>\n",
              "    </tr>\n",
              "    <tr>\n",
              "      <th>4</th>\n",
              "      <td>63.0</td>\n",
              "      <td>56</td>\n",
              "      <td>73.0</td>\n",
              "      <td>66.0</td>\n",
              "    </tr>\n",
              "    <tr>\n",
              "      <th>5</th>\n",
              "      <td>51.0</td>\n",
              "      <td>44</td>\n",
              "      <td>75.0</td>\n",
              "      <td>54.0</td>\n",
              "    </tr>\n",
              "    <tr>\n",
              "      <th>6</th>\n",
              "      <td>54.0</td>\n",
              "      <td>71</td>\n",
              "      <td>69.0</td>\n",
              "      <td>47.0</td>\n",
              "    </tr>\n",
              "    <tr>\n",
              "      <th>7</th>\n",
              "      <td>43.0</td>\n",
              "      <td>70</td>\n",
              "      <td>67.0</td>\n",
              "      <td>42.0</td>\n",
              "    </tr>\n",
              "    <tr>\n",
              "      <th>8</th>\n",
              "      <td>50.0</td>\n",
              "      <td>78</td>\n",
              "      <td>57.0</td>\n",
              "      <td>56.0</td>\n",
              "    </tr>\n",
              "    <tr>\n",
              "      <th>9</th>\n",
              "      <td>51.0</td>\n",
              "      <td>64</td>\n",
              "      <td>69.0</td>\n",
              "      <td>53.0</td>\n",
              "    </tr>\n",
              "    <tr>\n",
              "      <th>10</th>\n",
              "      <td>76.0</td>\n",
              "      <td>47</td>\n",
              "      <td>56.0</td>\n",
              "      <td>70.0</td>\n",
              "    </tr>\n",
              "  </tbody>\n",
              "</table>\n",
              "</div>"
            ],
            "text/plain": [
              "     DSD  SS   EDC   EIC\n",
              "1   50.0  59  49.0  77.0\n",
              "2   72.0  65  54.0  50.0\n",
              "3   46.0  49  50.0  65.0\n",
              "4   63.0  56  73.0  66.0\n",
              "5   51.0  44  75.0  54.0\n",
              "6   54.0  71  69.0  47.0\n",
              "7   43.0  70  67.0  42.0\n",
              "8   50.0  78  57.0  56.0\n",
              "9   51.0  64  69.0  53.0\n",
              "10  76.0  47  56.0  70.0"
            ]
          },
          "metadata": {
            "tags": []
          },
          "execution_count": 53
        }
      ]
    },
    {
      "cell_type": "code",
      "metadata": {
        "colab": {
          "base_uri": "https://localhost:8080/",
          "height": 345
        },
        "id": "uvjpgbItafVH",
        "outputId": "2aa2ff0b-b687-4331-f978-8c43040aa409"
      },
      "source": [
        "# Popular operations on the dataset\n",
        "#marks.min()\n",
        "#marks.apply(lambda x:x.max()-x.min())\n",
        "#marks.apply(np.cumsum)\n",
        "Internals=np.random.randint(8,20,size=[len(marks)])\n",
        "marks['Internals']=Internals\n",
        "marks"
      ],
      "execution_count": null,
      "outputs": [
        {
          "output_type": "execute_result",
          "data": {
            "text/html": [
              "<div>\n",
              "<style scoped>\n",
              "    .dataframe tbody tr th:only-of-type {\n",
              "        vertical-align: middle;\n",
              "    }\n",
              "\n",
              "    .dataframe tbody tr th {\n",
              "        vertical-align: top;\n",
              "    }\n",
              "\n",
              "    .dataframe thead th {\n",
              "        text-align: right;\n",
              "    }\n",
              "</style>\n",
              "<table border=\"1\" class=\"dataframe\">\n",
              "  <thead>\n",
              "    <tr style=\"text-align: right;\">\n",
              "      <th></th>\n",
              "      <th>DSD</th>\n",
              "      <th>SS</th>\n",
              "      <th>EDC</th>\n",
              "      <th>EIC</th>\n",
              "      <th>Internals</th>\n",
              "    </tr>\n",
              "  </thead>\n",
              "  <tbody>\n",
              "    <tr>\n",
              "      <th>1</th>\n",
              "      <td>37</td>\n",
              "      <td>59</td>\n",
              "      <td>49</td>\n",
              "      <td>77</td>\n",
              "      <td>17</td>\n",
              "    </tr>\n",
              "    <tr>\n",
              "      <th>2</th>\n",
              "      <td>72</td>\n",
              "      <td>65</td>\n",
              "      <td>54</td>\n",
              "      <td>35</td>\n",
              "      <td>19</td>\n",
              "    </tr>\n",
              "    <tr>\n",
              "      <th>3</th>\n",
              "      <td>46</td>\n",
              "      <td>49</td>\n",
              "      <td>33</td>\n",
              "      <td>65</td>\n",
              "      <td>14</td>\n",
              "    </tr>\n",
              "    <tr>\n",
              "      <th>4</th>\n",
              "      <td>63</td>\n",
              "      <td>56</td>\n",
              "      <td>73</td>\n",
              "      <td>66</td>\n",
              "      <td>18</td>\n",
              "    </tr>\n",
              "    <tr>\n",
              "      <th>5</th>\n",
              "      <td>51</td>\n",
              "      <td>44</td>\n",
              "      <td>75</td>\n",
              "      <td>54</td>\n",
              "      <td>16</td>\n",
              "    </tr>\n",
              "    <tr>\n",
              "      <th>6</th>\n",
              "      <td>54</td>\n",
              "      <td>71</td>\n",
              "      <td>69</td>\n",
              "      <td>47</td>\n",
              "      <td>9</td>\n",
              "    </tr>\n",
              "    <tr>\n",
              "      <th>7</th>\n",
              "      <td>43</td>\n",
              "      <td>70</td>\n",
              "      <td>67</td>\n",
              "      <td>42</td>\n",
              "      <td>18</td>\n",
              "    </tr>\n",
              "    <tr>\n",
              "      <th>8</th>\n",
              "      <td>33</td>\n",
              "      <td>78</td>\n",
              "      <td>57</td>\n",
              "      <td>56</td>\n",
              "      <td>13</td>\n",
              "    </tr>\n",
              "    <tr>\n",
              "      <th>9</th>\n",
              "      <td>51</td>\n",
              "      <td>64</td>\n",
              "      <td>69</td>\n",
              "      <td>53</td>\n",
              "      <td>10</td>\n",
              "    </tr>\n",
              "    <tr>\n",
              "      <th>10</th>\n",
              "      <td>76</td>\n",
              "      <td>47</td>\n",
              "      <td>56</td>\n",
              "      <td>70</td>\n",
              "      <td>18</td>\n",
              "    </tr>\n",
              "  </tbody>\n",
              "</table>\n",
              "</div>"
            ],
            "text/plain": [
              "    DSD  SS  EDC  EIC  Internals\n",
              "1    37  59   49   77         17\n",
              "2    72  65   54   35         19\n",
              "3    46  49   33   65         14\n",
              "4    63  56   73   66         18\n",
              "5    51  44   75   54         16\n",
              "6    54  71   69   47          9\n",
              "7    43  70   67   42         18\n",
              "8    33  78   57   56         13\n",
              "9    51  64   69   53         10\n",
              "10   76  47   56   70         18"
            ]
          },
          "metadata": {
            "tags": []
          },
          "execution_count": 60
        }
      ]
    },
    {
      "cell_type": "code",
      "metadata": {
        "colab": {
          "base_uri": "https://localhost:8080/",
          "height": 345
        },
        "id": "5juP-eKMfZSm",
        "outputId": "adc2c351-c4e0-405d-f7fd-55929370237e"
      },
      "source": [
        "Percentage=np.zeros(10)\n",
        "for i in range(0,len(marks)):\n",
        "  Percentage[i]=marks.iloc[i,0]+marks.iloc[i,1]+marks.iloc[i,2]+marks.iloc[i,3]+marks.iloc[i,4]\n",
        "Percentage/=340 #4*80+20\n",
        "Percentage*=100\n",
        "marks['Percentage']=Percentage\n",
        "marks"
      ],
      "execution_count": null,
      "outputs": [
        {
          "output_type": "execute_result",
          "data": {
            "text/html": [
              "<div>\n",
              "<style scoped>\n",
              "    .dataframe tbody tr th:only-of-type {\n",
              "        vertical-align: middle;\n",
              "    }\n",
              "\n",
              "    .dataframe tbody tr th {\n",
              "        vertical-align: top;\n",
              "    }\n",
              "\n",
              "    .dataframe thead th {\n",
              "        text-align: right;\n",
              "    }\n",
              "</style>\n",
              "<table border=\"1\" class=\"dataframe\">\n",
              "  <thead>\n",
              "    <tr style=\"text-align: right;\">\n",
              "      <th></th>\n",
              "      <th>DSD</th>\n",
              "      <th>SS</th>\n",
              "      <th>EDC</th>\n",
              "      <th>EIC</th>\n",
              "      <th>Internals</th>\n",
              "      <th>Percentage</th>\n",
              "    </tr>\n",
              "  </thead>\n",
              "  <tbody>\n",
              "    <tr>\n",
              "      <th>1</th>\n",
              "      <td>37</td>\n",
              "      <td>59</td>\n",
              "      <td>49</td>\n",
              "      <td>77</td>\n",
              "      <td>17</td>\n",
              "      <td>70.294118</td>\n",
              "    </tr>\n",
              "    <tr>\n",
              "      <th>2</th>\n",
              "      <td>72</td>\n",
              "      <td>65</td>\n",
              "      <td>54</td>\n",
              "      <td>35</td>\n",
              "      <td>19</td>\n",
              "      <td>72.058824</td>\n",
              "    </tr>\n",
              "    <tr>\n",
              "      <th>3</th>\n",
              "      <td>46</td>\n",
              "      <td>49</td>\n",
              "      <td>33</td>\n",
              "      <td>65</td>\n",
              "      <td>14</td>\n",
              "      <td>60.882353</td>\n",
              "    </tr>\n",
              "    <tr>\n",
              "      <th>4</th>\n",
              "      <td>63</td>\n",
              "      <td>56</td>\n",
              "      <td>73</td>\n",
              "      <td>66</td>\n",
              "      <td>18</td>\n",
              "      <td>81.176471</td>\n",
              "    </tr>\n",
              "    <tr>\n",
              "      <th>5</th>\n",
              "      <td>51</td>\n",
              "      <td>44</td>\n",
              "      <td>75</td>\n",
              "      <td>54</td>\n",
              "      <td>16</td>\n",
              "      <td>70.588235</td>\n",
              "    </tr>\n",
              "    <tr>\n",
              "      <th>6</th>\n",
              "      <td>54</td>\n",
              "      <td>71</td>\n",
              "      <td>69</td>\n",
              "      <td>47</td>\n",
              "      <td>9</td>\n",
              "      <td>73.529412</td>\n",
              "    </tr>\n",
              "    <tr>\n",
              "      <th>7</th>\n",
              "      <td>43</td>\n",
              "      <td>70</td>\n",
              "      <td>67</td>\n",
              "      <td>42</td>\n",
              "      <td>18</td>\n",
              "      <td>70.588235</td>\n",
              "    </tr>\n",
              "    <tr>\n",
              "      <th>8</th>\n",
              "      <td>33</td>\n",
              "      <td>78</td>\n",
              "      <td>57</td>\n",
              "      <td>56</td>\n",
              "      <td>13</td>\n",
              "      <td>69.705882</td>\n",
              "    </tr>\n",
              "    <tr>\n",
              "      <th>9</th>\n",
              "      <td>51</td>\n",
              "      <td>64</td>\n",
              "      <td>69</td>\n",
              "      <td>53</td>\n",
              "      <td>10</td>\n",
              "      <td>72.647059</td>\n",
              "    </tr>\n",
              "    <tr>\n",
              "      <th>10</th>\n",
              "      <td>76</td>\n",
              "      <td>47</td>\n",
              "      <td>56</td>\n",
              "      <td>70</td>\n",
              "      <td>18</td>\n",
              "      <td>78.529412</td>\n",
              "    </tr>\n",
              "  </tbody>\n",
              "</table>\n",
              "</div>"
            ],
            "text/plain": [
              "    DSD  SS  EDC  EIC  Internals  Percentage\n",
              "1    37  59   49   77         17   70.294118\n",
              "2    72  65   54   35         19   72.058824\n",
              "3    46  49   33   65         14   60.882353\n",
              "4    63  56   73   66         18   81.176471\n",
              "5    51  44   75   54         16   70.588235\n",
              "6    54  71   69   47          9   73.529412\n",
              "7    43  70   67   42         18   70.588235\n",
              "8    33  78   57   56         13   69.705882\n",
              "9    51  64   69   53         10   72.647059\n",
              "10   76  47   56   70         18   78.529412"
            ]
          },
          "metadata": {
            "tags": []
          },
          "execution_count": 63
        }
      ]
    }
  ]
}